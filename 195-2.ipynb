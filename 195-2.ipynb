{
 "cells": [
  {
   "cell_type": "markdown",
   "id": "658785a0",
   "metadata": {
    "jp-MarkdownHeadingCollapsed": true
   },
   "source": [
    "# Este é um exemplo de Notebook\n",
    "\n",
    "<p>Você pode criar parágrafos simplesmente escrevendo o texto como preferir.</p>\n",
    "\n",
    "Para códigos, adicione <code>&#96;</code> antes e <code>&#96;</code> depois para códigos de uma linha, e <code>&#96;&#96;&#96;</code> antes e <code>&#96;&#96;&#96;</code> depois para códigos de várias linhas. **Exemplo de uma linha:** `print(123)`.\n",
    "\n",
    "**Exemplo de várias linhas:**\n",
    "\n",
    "```python\n",
    "lista = [\n",
    "    {'nome': 'Luiz', 'sobrenome': 'miranda'},\n",
    "    {'nome': 'Maria', 'sobrenome': 'Oliveira'},\n",
    "    {'nome': 'Daniel', 'sobrenome': 'Silva'},\n",
    "    {'nome': 'Eduardo', 'sobrenome': 'Moreira'},\n",
    "    {'nome': 'Aline', 'sobrenome': 'Souza'},\n",
    "]\n",
    "```\n",
    "\n",
    "## Negrito e itálico\n",
    "\n",
    "* \\** e \\** - **Negrito**\n",
    "* \\* e \\* - *Itálico*\n",
    "\n",
    "## Blockquote\n",
    "\n",
    "Responder as perguntas dos coleguinhas, pode te ajudar a aprender muito mais. \n",
    "\n",
    "> If you can't explain it simply, you don't understand it well enough.\n",
    "> Albert Einstein\n",
    "\n",
    "## Listas\n",
    "\n",
    "Aqui uma lista ordenada:\n",
    "\n",
    "1. Albert Einstein\n",
    "2. Carl Sagan\n",
    "3. Guido van Rossum\n",
    "\n",
    "Aqui está uma lista não ordenada:\n",
    "\n",
    "- Albert Einstein\n",
    "- Carl Sagan\n",
    "- Guido van Rossum\n",
    "\n",
    "## Imagem e links\n",
    "\n",
    "Olha só:\n",
    "\n",
    "![A logo do Python](https://upload.wikimedia.org/wikipedia/commons/c/c3/Python-logo-notext.svg)\n",
    "\n",
    "A imagem acima está [neste link](https://upload.wikimedia.org/wikipedia/commons/c/c3/Python-logo-notext.svg).\n",
    "\n",
    "## Tabela\n",
    "\n",
    "Abaixo uma tabela HTML:\n",
    "\n",
    "| Aqui temos uma tabela | Com mais uma coluna |\n",
    "|-----------------------|---------------------|\n",
    "| Aqui temos uma linha  | Outra coluna        |\n",
    "| Aqui temos uma linha  | Outra coluna        |\n",
    "| Aqui temos uma linha  | Outra coluna        |\n",
    "| Coluna                | Outra               |\n",
    "\n",
    "## Abaixo uma linha horizontal\n",
    "\n",
    "a\n",
    "\n",
    "---\n",
    "\n",
    "b\n",
    "\n",
    "## HTML puro\n",
    "\n",
    "<div style=\"padding: 30px; margin: 10px; background: #ccc;\">\n",
    "<p>Aqui vemos um &lt;p&gt;. Você pode usar qualquer tag HTML normal.</p>\n",
    "</div>\n"
   ]
  },
  {
   "cell_type": "markdown",
   "id": "e1e178fb",
   "metadata": {},
   "source": [
    "# Renderizando HTML"
   ]
  },
  {
   "cell_type": "code",
   "execution_count": 2,
   "id": "e5592d45",
   "metadata": {
    "jupyter": {
     "source_hidden": true
    },
    "scrolled": true
   },
   "outputs": [
    {
     "data": {
      "text/html": [
       "<span style=\"color: red;\">\n",
       "<b>ISSO É HTML</b><br />\n",
       "Este texto deve estar vermelho.\n",
       "</span>\n"
      ],
      "text/plain": [
       "<IPython.core.display.HTML object>"
      ]
     },
     "metadata": {},
     "output_type": "display_data"
    }
   ],
   "source": [
    "%%HTML\n",
    "<span style=\"color: red;\">\n",
    "<b>ISSO É HTML</b><br />\n",
    "Este texto deve estar vermelho.\n",
    "</span>"
   ]
  },
  {
   "cell_type": "code",
   "execution_count": 3,
   "id": "66354e92",
   "metadata": {
    "jupyter": {
     "source_hidden": true
    }
   },
   "outputs": [
    {
     "data": {
      "text/html": [
       "<h1>Vídeo do youtube</h1>\n",
       "<iframe width=\"560\" height=\"315\" src=\"https://www.youtube.com/embed/T17BTNKBeJY\" frameborder=\"0\"></iframe>\n"
      ],
      "text/plain": [
       "<IPython.core.display.HTML object>"
      ]
     },
     "metadata": {},
     "output_type": "display_data"
    }
   ],
   "source": [
    "%%HTML\n",
    "<h1>Vídeo do youtube</h1>\n",
    "<iframe width=\"560\" height=\"315\" src=\"https://www.youtube.com/embed/T17BTNKBeJY\" frameborder=\"0\"></iframe>"
   ]
  },
  {
   "cell_type": "markdown",
   "id": "2c7b4831",
   "metadata": {},
   "source": [
    "# Gráficos com matplotlib"
   ]
  },
  {
   "cell_type": "markdown",
   "id": "30426e36",
   "metadata": {},
   "source": [
    "Um exemplo de USO do módulo `matplotlib`.\n",
    "\n",
    "Primeiro vamos instalar o módulo usando `!` antes do comando."
   ]
  },
  {
   "cell_type": "code",
   "execution_count": 4,
   "id": "f66f6fc0",
   "metadata": {},
   "outputs": [
    {
     "name": "stdout",
     "output_type": "stream",
     "text": [
      "^C\n"
     ]
    }
   ],
   "source": [
    "!pip install matplotlib"
   ]
  },
  {
   "cell_type": "code",
   "execution_count": 5,
   "id": "5b8cb5d1",
   "metadata": {},
   "outputs": [
    {
     "ename": "ModuleNotFoundError",
     "evalue": "No module named 'matplotlib'",
     "output_type": "error",
     "traceback": [
      "\u001b[1;31m---------------------------------------------------\u001b[0m",
      "\u001b[1;31mModuleNotFoundError\u001b[0mTraceback (most recent call last)",
      "Cell \u001b[1;32mIn[5], line 1\u001b[0m\n\u001b[1;32m----> 1\u001b[0m \u001b[38;5;28;01mimport\u001b[39;00m \u001b[38;5;21;01mmatplotlib\u001b[39;00m\u001b[38;5;21;01m.\u001b[39;00m\u001b[38;5;21;01mpyplot\u001b[39;00m \u001b[38;5;28;01mas\u001b[39;00m \u001b[38;5;21;01mplt\u001b[39;00m\n\u001b[0;32m      3\u001b[0m fig, ax \u001b[38;5;241m=\u001b[39m plt\u001b[38;5;241m.\u001b[39msubplots()\n\u001b[0;32m      5\u001b[0m fruits \u001b[38;5;241m=\u001b[39m [\u001b[38;5;124m'\u001b[39m\u001b[38;5;124mapple\u001b[39m\u001b[38;5;124m'\u001b[39m, \u001b[38;5;124m'\u001b[39m\u001b[38;5;124mblueberry\u001b[39m\u001b[38;5;124m'\u001b[39m, \u001b[38;5;124m'\u001b[39m\u001b[38;5;124mcherry\u001b[39m\u001b[38;5;124m'\u001b[39m, \u001b[38;5;124m'\u001b[39m\u001b[38;5;124morange\u001b[39m\u001b[38;5;124m'\u001b[39m]\n",
      "\u001b[1;31mModuleNotFoundError\u001b[0m: No module named 'matplotlib'"
     ]
    }
   ],
   "source": [
    "import matplotlib.pyplot as plt\n",
    "\n",
    "fig, ax = plt.subplots()\n",
    "\n",
    "fruits = ['apple', 'blueberry', 'cherry', 'orange']\n",
    "counts = [40, 100, 30, 55]\n",
    "bar_labels = ['red', 'blue', '_red', 'orange']\n",
    "bar_colors = ['tab:red', 'tab:blue', 'tab:red', 'tab:orange']\n",
    "\n",
    "ax.bar(fruits, counts, label=bar_labels, color=bar_colors)\n",
    "\n",
    "ax.set_ylabel('fruit supply')\n",
    "ax.set_title('Fruit supply by kind and color')\n",
    "ax.legend(title='Fruit color')\n",
    "\n",
    "plt.show()"
   ]
  },
  {
   "cell_type": "markdown",
   "id": "d82bdcca",
   "metadata": {},
   "source": [
    "# Comandos no seu computador"
   ]
  },
  {
   "cell_type": "markdown",
   "id": "325915f3",
   "metadata": {},
   "source": [
    "Use o `!` para comandos do seu computador."
   ]
  },
  {
   "cell_type": "code",
   "execution_count": 5,
   "id": "507bef38",
   "metadata": {},
   "outputs": [
    {
     "name": "stdout",
     "output_type": "stream",
     "text": [
      "PING 127.0.0.1 (127.0.0.1): 56 data bytes\n",
      "64 bytes from 127.0.0.1: icmp_seq=0 ttl=64 time=0.037 ms\n",
      "64 bytes from 127.0.0.1: icmp_seq=1 ttl=64 time=0.171 ms\n",
      "64 bytes from 127.0.0.1: icmp_seq=2 ttl=64 time=0.797 ms\n",
      "64 bytes from 127.0.0.1: icmp_seq=3 ttl=64 time=0.586 ms\n",
      "64 bytes from 127.0.0.1: icmp_seq=4 ttl=64 time=0.257 ms\n",
      "\n",
      "--- 127.0.0.1 ping statistics ---\n",
      "5 packets transmitted, 5 packets received, 0.0% packet loss\n",
      "round-trip min/avg/max/stddev = 0.037/0.370/0.797/0.280 ms\n"
     ]
    }
   ],
   "source": [
    "!ping 127.0.0.1 -c 5"
   ]
  },
  {
   "cell_type": "markdown",
   "id": "479854c8",
   "metadata": {},
   "source": [
    "# timeit\n",
    "\n",
    "Você pode ver quanto tempo levou para realizar alguma operação com `%%timeit`."
   ]
  },
  {
   "cell_type": "code",
   "execution_count": 6,
   "id": "c9fb4e7b",
   "metadata": {},
   "outputs": [
    {
     "name": "stdout",
     "output_type": "stream",
     "text": [
      "2.48 ms ± 12.8 µs per loop (mean ± std. dev. of 7 runs, 100 loops each)\n"
     ]
    }
   ],
   "source": [
    "%%timeit\n",
    "lista = [x * 2 for x in range(100000)]"
   ]
  },
  {
   "cell_type": "markdown",
   "id": "048caf04",
   "metadata": {},
   "source": [
    "# Exibindo Pandas Dataframe"
   ]
  },
  {
   "cell_type": "code",
   "execution_count": 7,
   "id": "dec0fc56",
   "metadata": {},
   "outputs": [
    {
     "name": "stdout",
     "output_type": "stream",
     "text": [
      "Requirement already satisfied: numpy in ./venv/lib/python3.11/site-packages (1.24.2)\n",
      "Collecting pandas\n",
      "  Downloading pandas-1.5.3-cp311-cp311-macosx_11_0_arm64.whl (10.8 MB)\n",
      "\u001b[2K     \u001b[38;2;114;156;31m━━━━━━━━━━━━━━━━━━━━━━━━━━━━━━━━━━━━━━━━\u001b[0m \u001b[32m10.8/10.8 MB\u001b[0m \u001b[31m8.0 MB/s\u001b[0m eta \u001b[36m0:00:00\u001b[0mm eta \u001b[36m0:00:01\u001b[0m[36m0:00:01\u001b[0m\n",
      "\u001b[?25hRequirement already satisfied: python-dateutil>=2.8.1 in ./venv/lib/python3.11/site-packages (from pandas) (2.8.2)\n",
      "Requirement already satisfied: pytz>=2020.1 in ./venv/lib/python3.11/site-packages (from pandas) (2022.6)\n",
      "Requirement already satisfied: numpy>=1.21.0 in ./venv/lib/python3.11/site-packages (from pandas) (1.24.2)\n",
      "Requirement already satisfied: six>=1.5 in ./venv/lib/python3.11/site-packages (from python-dateutil>=2.8.1->pandas) (1.16.0)\n",
      "Installing collected packages: pandas\n",
      "Successfully installed pandas-1.5.3\n"
     ]
    }
   ],
   "source": [
    "!pip install numpy\n",
    "!pip install pandas"
   ]
  },
  {
   "cell_type": "code",
   "execution_count": 8,
   "id": "c1ddfca3",
   "metadata": {},
   "outputs": [
    {
     "data": {
      "text/html": [
       "<div>\n",
       "<style scoped>\n",
       "    .dataframe tbody tr th:only-of-type {\n",
       "        vertical-align: middle;\n",
       "    }\n",
       "\n",
       "    .dataframe tbody tr th {\n",
       "        vertical-align: top;\n",
       "    }\n",
       "\n",
       "    .dataframe thead th {\n",
       "        text-align: right;\n",
       "    }\n",
       "</style>\n",
       "<table border=\"1\" class=\"dataframe\">\n",
       "  <thead>\n",
       "    <tr style=\"text-align: right;\">\n",
       "      <th></th>\n",
       "      <th>0</th>\n",
       "      <th>1</th>\n",
       "      <th>2</th>\n",
       "      <th>3</th>\n",
       "      <th>4</th>\n",
       "    </tr>\n",
       "  </thead>\n",
       "  <tbody>\n",
       "    <tr>\n",
       "      <th>0</th>\n",
       "      <td>1.294654</td>\n",
       "      <td>1.225407</td>\n",
       "      <td>0.667927</td>\n",
       "      <td>0.759970</td>\n",
       "      <td>-0.083937</td>\n",
       "    </tr>\n",
       "    <tr>\n",
       "      <th>1</th>\n",
       "      <td>0.374234</td>\n",
       "      <td>-0.485277</td>\n",
       "      <td>-0.510499</td>\n",
       "      <td>0.140018</td>\n",
       "      <td>-0.186759</td>\n",
       "    </tr>\n",
       "    <tr>\n",
       "      <th>2</th>\n",
       "      <td>0.870954</td>\n",
       "      <td>-1.125351</td>\n",
       "      <td>-0.149405</td>\n",
       "      <td>1.798478</td>\n",
       "      <td>-1.199871</td>\n",
       "    </tr>\n",
       "    <tr>\n",
       "      <th>3</th>\n",
       "      <td>0.068925</td>\n",
       "      <td>-1.689795</td>\n",
       "      <td>2.298880</td>\n",
       "      <td>0.755638</td>\n",
       "      <td>-0.585057</td>\n",
       "    </tr>\n",
       "    <tr>\n",
       "      <th>4</th>\n",
       "      <td>-0.603612</td>\n",
       "      <td>0.191454</td>\n",
       "      <td>1.636797</td>\n",
       "      <td>0.396244</td>\n",
       "      <td>-0.133369</td>\n",
       "    </tr>\n",
       "    <tr>\n",
       "      <th>5</th>\n",
       "      <td>1.049888</td>\n",
       "      <td>0.764657</td>\n",
       "      <td>0.497842</td>\n",
       "      <td>-0.474002</td>\n",
       "      <td>-1.134222</td>\n",
       "    </tr>\n",
       "    <tr>\n",
       "      <th>6</th>\n",
       "      <td>-0.216218</td>\n",
       "      <td>-2.036079</td>\n",
       "      <td>-1.460034</td>\n",
       "      <td>-1.004030</td>\n",
       "      <td>-1.167232</td>\n",
       "    </tr>\n",
       "    <tr>\n",
       "      <th>7</th>\n",
       "      <td>0.392413</td>\n",
       "      <td>0.327364</td>\n",
       "      <td>-0.586026</td>\n",
       "      <td>1.293106</td>\n",
       "      <td>-0.915008</td>\n",
       "    </tr>\n",
       "    <tr>\n",
       "      <th>8</th>\n",
       "      <td>-0.220137</td>\n",
       "      <td>-0.295776</td>\n",
       "      <td>1.426281</td>\n",
       "      <td>-0.783319</td>\n",
       "      <td>-1.033458</td>\n",
       "    </tr>\n",
       "    <tr>\n",
       "      <th>9</th>\n",
       "      <td>-1.223821</td>\n",
       "      <td>0.447848</td>\n",
       "      <td>-0.134580</td>\n",
       "      <td>1.212411</td>\n",
       "      <td>1.438265</td>\n",
       "    </tr>\n",
       "    <tr>\n",
       "      <th>10</th>\n",
       "      <td>-0.720095</td>\n",
       "      <td>2.313858</td>\n",
       "      <td>0.814957</td>\n",
       "      <td>-1.014996</td>\n",
       "      <td>-0.206972</td>\n",
       "    </tr>\n",
       "    <tr>\n",
       "      <th>11</th>\n",
       "      <td>-0.240504</td>\n",
       "      <td>-0.562041</td>\n",
       "      <td>0.092123</td>\n",
       "      <td>-1.061941</td>\n",
       "      <td>0.554129</td>\n",
       "    </tr>\n",
       "    <tr>\n",
       "      <th>12</th>\n",
       "      <td>-0.496803</td>\n",
       "      <td>0.012167</td>\n",
       "      <td>-1.686492</td>\n",
       "      <td>-0.953233</td>\n",
       "      <td>-1.897452</td>\n",
       "    </tr>\n",
       "    <tr>\n",
       "      <th>13</th>\n",
       "      <td>1.066488</td>\n",
       "      <td>0.238337</td>\n",
       "      <td>1.085256</td>\n",
       "      <td>0.933488</td>\n",
       "      <td>1.422043</td>\n",
       "    </tr>\n",
       "    <tr>\n",
       "      <th>14</th>\n",
       "      <td>-0.163235</td>\n",
       "      <td>-1.566865</td>\n",
       "      <td>0.640183</td>\n",
       "      <td>-0.053335</td>\n",
       "      <td>1.849781</td>\n",
       "    </tr>\n",
       "    <tr>\n",
       "      <th>15</th>\n",
       "      <td>1.285187</td>\n",
       "      <td>0.900688</td>\n",
       "      <td>0.548796</td>\n",
       "      <td>-0.490966</td>\n",
       "      <td>0.116574</td>\n",
       "    </tr>\n",
       "    <tr>\n",
       "      <th>16</th>\n",
       "      <td>1.791797</td>\n",
       "      <td>0.459082</td>\n",
       "      <td>0.026875</td>\n",
       "      <td>0.506279</td>\n",
       "      <td>-0.131219</td>\n",
       "    </tr>\n",
       "    <tr>\n",
       "      <th>17</th>\n",
       "      <td>1.536301</td>\n",
       "      <td>0.456350</td>\n",
       "      <td>0.426322</td>\n",
       "      <td>0.524374</td>\n",
       "      <td>2.521286</td>\n",
       "    </tr>\n",
       "  </tbody>\n",
       "</table>\n",
       "</div>"
      ],
      "text/plain": [
       "           0         1         2         3         4\n",
       "0   1.294654  1.225407  0.667927  0.759970 -0.083937\n",
       "1   0.374234 -0.485277 -0.510499  0.140018 -0.186759\n",
       "2   0.870954 -1.125351 -0.149405  1.798478 -1.199871\n",
       "3   0.068925 -1.689795  2.298880  0.755638 -0.585057\n",
       "4  -0.603612  0.191454  1.636797  0.396244 -0.133369\n",
       "5   1.049888  0.764657  0.497842 -0.474002 -1.134222\n",
       "6  -0.216218 -2.036079 -1.460034 -1.004030 -1.167232\n",
       "7   0.392413  0.327364 -0.586026  1.293106 -0.915008\n",
       "8  -0.220137 -0.295776  1.426281 -0.783319 -1.033458\n",
       "9  -1.223821  0.447848 -0.134580  1.212411  1.438265\n",
       "10 -0.720095  2.313858  0.814957 -1.014996 -0.206972\n",
       "11 -0.240504 -0.562041  0.092123 -1.061941  0.554129\n",
       "12 -0.496803  0.012167 -1.686492 -0.953233 -1.897452\n",
       "13  1.066488  0.238337  1.085256  0.933488  1.422043\n",
       "14 -0.163235 -1.566865  0.640183 -0.053335  1.849781\n",
       "15  1.285187  0.900688  0.548796 -0.490966  0.116574\n",
       "16  1.791797  0.459082  0.026875  0.506279 -0.131219\n",
       "17  1.536301  0.456350  0.426322  0.524374  2.521286"
      ]
     },
     "execution_count": 8,
     "metadata": {},
     "output_type": "execute_result"
    }
   ],
   "source": [
    "import pandas as pd\n",
    "import numpy as np\n",
    "\n",
    "df = pd.DataFrame(np.random.randn(18,5))\n",
    "df"
   ]
  },
  {
   "cell_type": "code",
   "execution_count": null,
   "id": "7b697f50",
   "metadata": {},
   "outputs": [],
   "source": []
  }
 ],
 "metadata": {
  "kernelspec": {
   "display_name": "Python 3 (ipykernel)",
   "language": "python",
   "name": "python3"
  },
  "language_info": {
   "codemirror_mode": {
    "name": "ipython",
    "version": 3
   },
   "file_extension": ".py",
   "mimetype": "text/x-python",
   "name": "python",
   "nbconvert_exporter": "python",
   "pygments_lexer": "ipython3",
   "version": "3.11.5"
  },
  "vscode": {
   "interpreter": {
    "hash": "d4b58ea986700fddbea61f2811ee261ba0a6226fa64e48186a330b544c2c33ae"
   }
  }
 },
 "nbformat": 4,
 "nbformat_minor": 5
}
